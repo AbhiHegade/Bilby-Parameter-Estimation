{
 "cells": [
  {
   "cell_type": "code",
   "execution_count": null,
   "metadata": {},
   "outputs": [],
   "source": [
    "import bilby\n",
    "import numpy as np\n",
    "\n",
    "datapsd=np.loadtxt('/home/abhi/Projects/Data from GW Events/GWTC1_PSDs/GWTC1_GW170817_PSDs.dat')\n",
    "\n",
    "farray=datapsd[:,0]\n",
    "h1psd = datapsd[:,1]\n",
    "l1psd= datapsd[:,2]\n",
    "v1psd = datapsd[:,3]\n",
    "\n",
    "\n",
    "psd1 = bilby.gw.detector.PowerSpectralDensity(frequency_array=farray, psd_array=h1psd)\n",
    "psd2 = bilby.gw.detector.PowerSpectralDensity(frequency_array=farray, psd_array=l1psd)\n",
    "psd3 = bilby.gw.detector.PowerSpectralDensity(frequency_array=farray, psd_array=v1psd)\n",
    "\n",
    "\n",
    "detectors = bilby.gw.detector.InterferometerList(['H1', 'L1','V1'])\n",
    "ifos = list([0,0,0])\n",
    "ifos[0] = bilby.gw.detector.Interferometer(name ='H1', power_spectral_density= psd1\n",
    "                                           , minimum_frequency=20.0, maximum_frequency=2048.0, \n",
    "                                           length=4.0, latitude=46.45514666666667, longitude=-119.4076571388889, \n",
    "                                           elevation=142.554, xarm_azimuth=125.9994, yarm_azimuth=215.9994,\n",
    "                                           xarm_tilt=-0.0006195, yarm_tilt=1.25e-05 )\n",
    "ifos[1] = bilby.gw.detector.Interferometer(name='L1', power_spectral_density=psd2,\n",
    "                                           minimum_frequency=20.0, maximum_frequency=2048.0, length=4.0, \n",
    "                                           latitude=30.562894333333332, longitude=-90.77424038888887, \n",
    "                                           elevation=-6.574, xarm_azimuth=197.7165, \n",
    "                                           yarm_azimuth=287.7165, xarm_tilt=0.0, yarm_tilt=0.0)\n",
    "ifos[2] = bilby.gw.detector.Interferometer(name='V1', power_spectral_density=psd3, \n",
    "                                           minimum_frequency=20.0, maximum_frequency=2048.0, \n",
    "                                           length=3.0, latitude=43.631414472222225, longitude=10.504496611111112, \n",
    "                                           elevation=51.884, xarm_azimuth=70.56740000000002, \n",
    "                                           yarm_azimuth=160.5674, xarm_tilt=0.0, yarm_tilt=0.0)"
   ]
  }
 ],
 "metadata": {
  "kernelspec": {
   "display_name": "Python 3",
   "language": "python",
   "name": "python3"
  },
  "language_info": {
   "codemirror_mode": {
    "name": "ipython",
    "version": 3
   },
   "file_extension": ".py",
   "mimetype": "text/x-python",
   "name": "python",
   "nbconvert_exporter": "python",
   "pygments_lexer": "ipython3",
   "version": "3.7.4"
  }
 },
 "nbformat": 4,
 "nbformat_minor": 2
}
